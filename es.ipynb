{
 "cells": [
  {
   "cell_type": "code",
   "execution_count": null,
   "metadata": {},
   "outputs": [],
   "source": [
    "from elasticsearch import Elasticsearch\n",
    "client = Elasticsearch([\"http://192.168.12.151:9200\"])"
   ]
  },
  {
   "cell_type": "code",
   "execution_count": null,
   "metadata": {},
   "outputs": [],
   "source": [
    "data = {\n",
    "    \"title\": \"My Document\",\n",
    "    \"content\": \"This is the test2.\"\n",
    "}\n",
    "\n",
    "index_response = client.index(index=\"test_index\", body=data)\n",
    "print(f\"Document indexed. Version: {index_response['_version']}\")"
   ]
  },
  {
   "cell_type": "markdown",
   "metadata": {},
   "source": [
    "# write into es"
   ]
  },
  {
   "cell_type": "code",
   "execution_count": null,
   "metadata": {},
   "outputs": [],
   "source": [
    "for re in resault_v1:\n",
    "    index_response = client.index(index=\"test_index_2\", body=re)"
   ]
  },
  {
   "cell_type": "markdown",
   "metadata": {},
   "source": [
    "# query es"
   ]
  },
  {
   "cell_type": "code",
   "execution_count": null,
   "metadata": {},
   "outputs": [],
   "source": [
    "res = client.search(index=\"test_index_2\", body={\"query\": {\"match_all\": {}}})"
   ]
  },
  {
   "cell_type": "code",
   "execution_count": null,
   "metadata": {},
   "outputs": [],
   "source": [
    "\n",
    "# 处理查询结果\n",
    "for hit in res['hits']['hits']:\n",
    "    print(hit['_source'])"
   ]
  },
  {
   "cell_type": "code",
   "execution_count": null,
   "metadata": {},
   "outputs": [],
   "source": [
    "# 查询所有数据\n",
    "res = client.search(index=\"test_index_2\", body={\"query\": {\"match_all\": {}}})\n",
    "\n",
    "# 打印查询结果\n",
    "for hit in res['hits']['hits']:\n",
    "    print(hit['_source'])"
   ]
  },
  {
   "cell_type": "markdown",
   "metadata": {},
   "source": [
    "# qurey index"
   ]
  },
  {
   "cell_type": "code",
   "execution_count": null,
   "metadata": {},
   "outputs": [],
   "source": [
    "# all_indices = client.indices.get_alias().keys()\n",
    "index_names = client.indices.get_alias().keys()"
   ]
  },
  {
   "cell_type": "code",
   "execution_count": null,
   "metadata": {},
   "outputs": [],
   "source": [
    "\n",
    "for i in all_indices:\n",
    "    print(i)"
   ]
  },
  {
   "cell_type": "markdown",
   "metadata": {},
   "source": [
    "# Get data of txt"
   ]
  },
  {
   "cell_type": "code",
   "execution_count": null,
   "metadata": {},
   "outputs": [],
   "source": [
    "import pandas as pd\n",
    "\n",
    "def read_txt(pathfile):\n",
    "    txt_file_path = pathfile\n",
    "    df = pd.read_csv(txt_file_path, delimiter='\\t')\n",
    "    list_of_lists = df.values.tolist()\n",
    "    return list_of_lists"
   ]
  },
  {
   "cell_type": "code",
   "execution_count": null,
   "metadata": {},
   "outputs": [],
   "source": [
    "list_of_lists=read_txt('Data/guangdong_openstack.txt')"
   ]
  },
  {
   "cell_type": "code",
   "execution_count": null,
   "metadata": {},
   "outputs": [],
   "source": [
    "list_of_lists"
   ]
  },
  {
   "cell_type": "markdown",
   "metadata": {},
   "source": [
    "## cpu"
   ]
  },
  {
   "cell_type": "code",
   "execution_count": null,
   "metadata": {},
   "outputs": [],
   "source": [
    "import datetime\n",
    "def get_date_time_now():\n",
    "    current_dt = datetime.datetime.now()\n",
    "    formatted_dt = current_dt.strftime(\"%Y-%m-%d %H:%M:%S\")\n",
    "    # print(\"Formatted date and time: \", formatted_dt)\n",
    "    return formatted_dt"
   ]
  },
  {
   "cell_type": "code",
   "execution_count": null,
   "metadata": {},
   "outputs": [],
   "source": [
    "now=get_date_time_now()"
   ]
  },
  {
   "cell_type": "code",
   "execution_count": null,
   "metadata": {},
   "outputs": [],
   "source": [
    "def get_cpu_data(file_path):\n",
    "    now=get_date_time_now()\n",
    "    list_of_lists_1=read_txt(file_path)\n",
    "    cpulist=[]\n",
    "    for i in list_of_lists_1:\n",
    "        if '[cpu_load]' in i[0]:\n",
    "            # print(i[0])\n",
    "            for ii in i:\n",
    "                cpudict={}\n",
    "                iili=(ii.split())\n",
    "                cpudict['nodeName']=iili[1]\n",
    "                cpudict['cpuUsage']=round(float(iili[3])+float(iili[5]))\n",
    "                cpudict['createTime']=now\n",
    "                cpulist.append(cpudict)\n",
    "    return cpulist"
   ]
  },
  {
   "cell_type": "code",
   "execution_count": null,
   "metadata": {},
   "outputs": [],
   "source": [
    "def merge_dicts_with_same_nodename(cpulist, memlist):\n",
    "    merged_dict = {} \n",
    "\n",
    "    \n",
    "    for dict1 in cpulist:\n",
    "        nodename = dict1.get('nodeName')  \n",
    "        if nodename:\n",
    "          \n",
    "            if nodename not in merged_dict:\n",
    "                merged_dict[nodename] = dict1\n",
    "            \n",
    "            else:\n",
    "                merged_dict[nodename].update(dict1)\n",
    "\n",
    "    \n",
    "    for dict2 in memlist:\n",
    "        nodename = dict2.get('nodeName')\n",
    "        if nodename:\n",
    "            if nodename not in merged_dict:\n",
    "                merged_dict[nodename] = dict2\n",
    "            else:\n",
    "                merged_dict[nodename].update(dict2)\n",
    "\n",
    "    return list(merged_dict.values())  \n"
   ]
  },
  {
   "cell_type": "markdown",
   "metadata": {},
   "source": [
    "## disk"
   ]
  },
  {
   "cell_type": "code",
   "execution_count": null,
   "metadata": {},
   "outputs": [],
   "source": [
    "def get_disk_data(file_path):\n",
    "    now=get_date_time_now()\n",
    "    list_of_lists_1=read_txt(file_path)\n",
    "    disklist=[]\n",
    "    for i in list_of_lists_1:\n",
    "        # print(i)\n",
    "        if '[disk]' in i[0]:\n",
    "            # print(i)\n",
    "            for ii in i:\n",
    "                diskdict={}\n",
    "                iili=(ii.split())\n",
    "                # print(iili)\n",
    "                diskdict={\n",
    "                    'nodeName':iili[1],\n",
    "                    # '':iili[3],\n",
    "                    'sysDiskUsage':iili[9].split(\"%\")[0],\n",
    "                    'createTime':now}\n",
    "                disklist.append(diskdict)\n",
    "    return disklist"
   ]
  },
  {
   "cell_type": "code",
   "execution_count": null,
   "metadata": {},
   "outputs": [],
   "source": [
    "def get_disk_ansy(file_path):\n",
    "    data=get_disk_data(file_path)\n",
    "    merged_data = {}\n",
    "    for item in data:\n",
    "        node_name = item['nodeName']\n",
    "        if node_name in merged_data:\n",
    "            merged_data[node_name]['sysDiskUsage'].append(int(item['sysDiskUsage']))\n",
    "        else:\n",
    "            merged_data[node_name] = item.copy()\n",
    "            merged_data[node_name]['sysDiskUsage'] = [int(item['sysDiskUsage'])]  # 创建新的列表存储值\n",
    "\n",
    "    for item in merged_data.values():\n",
    "        item['sysDiskUsage'] = list(set(item['sysDiskUsage']))\n",
    "\n",
    "    merged_list = list(merged_data.values())\n",
    "    return merged_list\n",
    "# print(final_result)"
   ]
  },
  {
   "cell_type": "code",
   "execution_count": null,
   "metadata": {},
   "outputs": [],
   "source": [
    "newdata=get_disk_ansy(\"Data/guangdong_node.txt\")"
   ]
  },
  {
   "cell_type": "code",
   "execution_count": null,
   "metadata": {},
   "outputs": [],
   "source": [
    "newdata"
   ]
  },
  {
   "cell_type": "markdown",
   "metadata": {},
   "source": [
    "## mem"
   ]
  },
  {
   "cell_type": "code",
   "execution_count": null,
   "metadata": {},
   "outputs": [],
   "source": [
    "def get_mem_data(file_path):\n",
    "    now=get_date_time_now()\n",
    "    list_of_lists_1=read_txt(file_path)\n",
    "    memlist=[]\n",
    "    for i in list_of_lists_1:\n",
    "        # print(i)\n",
    "        if '[mem]' in i[0]:\n",
    "            memdict={}\n",
    "            # print(i)\n",
    "            for ii in i:\n",
    "                iili=(ii.split())\n",
    "                # print(iili)\n",
    "                mem=int(iili[5].split(\"G\")[0])/int(iili[3].split(\"G\")[0])\n",
    "                memdict['nodeName']=iili[1]\n",
    "                memdict['memUsage']=round(mem*100)\n",
    "                memdict['createTime']=now\n",
    "                memlist.append(memdict)\n",
    "    return memlist\n"
   ]
  },
  {
   "cell_type": "markdown",
   "metadata": {},
   "source": [
    "## down or up"
   ]
  },
  {
   "cell_type": "code",
   "execution_count": null,
   "metadata": {},
   "outputs": [],
   "source": [
    "def get_host_down_up(file_path,province_name,pool_name):\n",
    "    now=get_date_time_now()\n",
    "    list_of_lists_1=read_txt(file_path)\n",
    "    downlist=[]\n",
    "    for i in list_of_lists_1:\n",
    "        if 'reacheable' in i[0] and 'ping' not in i[0]:\n",
    "            for ii in i:\n",
    "                downdict={}\n",
    "                iili=(ii.split())\n",
    "                downdict['nodeName']=iili[0]\n",
    "                print(iili[1])\n",
    "                if iili[1]=='reacheable.':\n",
    "                    downdict['hostIcmpDown'] = True\n",
    "                else:\n",
    "                    downdict['hostIcmpDown'] = False\n",
    "                # downdict['hostIcmpDown']=iili[1]\n",
    "                downdict['province']=province_name\n",
    "                downdict['pool']=pool_name\n",
    "                downdict['sysDiskInodeUsage']=None\n",
    "                downdict['otherDiskUsage']=None\n",
    "                downdict['otherDiskInodeUsage']=None\n",
    "                downdict['loadAverage5']=None\n",
    "                downdict['createTime']=now\n",
    "                downlist.append(downdict)\n",
    "    return downlist"
   ]
  },
  {
   "cell_type": "markdown",
   "metadata": {},
   "source": [
    "# mergent"
   ]
  },
  {
   "cell_type": "code",
   "execution_count": null,
   "metadata": {},
   "outputs": [],
   "source": [
    "cpulist=get_cpu_data(\"Data/guangdong_node.txt\")\n",
    "memlist=get_mem_data(\"Data/guangdong_node.txt\")\n",
    "downlist=get_host_down_up(\"Data/guangdong_node.txt\",'广东','广东')\n",
    "final_result=get_disk_ansy(\"Data/guangdong_node.txt\")"
   ]
  },
  {
   "cell_type": "code",
   "execution_count": null,
   "metadata": {},
   "outputs": [],
   "source": [
    "merged_result = merge_dicts_with_same_nodename(cpulist, memlist)\n",
    "merged_result_v1 = merge_dicts_with_same_nodename(merged_result,downlist)\n",
    "resault_v1=merge_dicts_with_same_nodename(merged_result_v1,final_result)"
   ]
  },
  {
   "cell_type": "code",
   "execution_count": null,
   "metadata": {},
   "outputs": [],
   "source": [
    "resault_v1"
   ]
  },
  {
   "cell_type": "code",
   "execution_count": null,
   "metadata": {},
   "outputs": [],
   "source": [
    "for re in resault_v1:\n",
    "    index_response = client.index(index=\"os_system_monitor\", body=re)"
   ]
  },
  {
   "cell_type": "markdown",
   "metadata": {},
   "source": [
    "# openstack service"
   ]
  },
  {
   "cell_type": "code",
   "execution_count": null,
   "metadata": {},
   "outputs": [],
   "source": [
    "import pandas as pd\n",
    "\n",
    "txt_file_path = 'Data/guangdong_openstack.txt'\n",
    "df = pd.read_csv(txt_file_path, delimiter='\\t')\n",
    "list_of_lists = df.values.tolist()\n",
    "list_of_lists=read_txt(\"Data/guangdong_openstack.txt\")"
   ]
  },
  {
   "cell_type": "code",
   "execution_count": null,
   "metadata": {},
   "outputs": [],
   "source": [
    "def get_nova_status(file_path,province_name,pool_name):\n",
    "    now=get_date_time_now()\n",
    "    list_of_lists=read_txt(file_path)\n",
    "    novalist=[]\n",
    "    for lis in list_of_lists:\n",
    "        # print(lis)\n",
    "        for info in lis:\n",
    "            if 'nova' in info:\n",
    "                # print(info.split())\n",
    "                novadict={}\n",
    "                listll=info.split()\n",
    "                hostname=[s for s in listll if \"aqc\" in s]\n",
    "                # print(hostname)\n",
    "                if (info.split()[-1]) == 'up':\n",
    "                    novadict['province']=province_name\n",
    "                    novadict['pool']=pool_name\n",
    "                    novadict['glance']=None\n",
    "                    novadict['swift']=None\n",
    "                    novadict['keystone']=None\n",
    "                    novadict['horizon']=None\n",
    "                    novadict['heat']=None\n",
    "                    novadict['ceilometer']=None\n",
    "                    novadict['manila']=None\n",
    "                    novadict['rabbitmqActive']=None\n",
    "                    novadict['rabbitmqLeader']=None\n",
    "                    novadict['nova']=True\n",
    "                    novadict['nodeName']=hostname[0]\n",
    "                    novadict['createTime']=now\n",
    "                    novalist.append(novadict)\n",
    "                else:\n",
    "                    novadict['province']=province_name\n",
    "                    novadict['pool']=pool_name\n",
    "                    novadict['glance']=None\n",
    "                    novadict['swift']=None\n",
    "                    novadict['keystone']=None\n",
    "                    novadict['horizon']=None\n",
    "                    novadict['heat']=None\n",
    "                    novadict['ceilometer']=None\n",
    "                    novadict['manila']=None\n",
    "                    novadict['rabbitmqActive']=None\n",
    "                    novadict['rabbitmqLeader']=None\n",
    "                    novadict['nova']=False\n",
    "                    novadict['nodeName']=hostname[0]\n",
    "                    novadict['createTime']=now\n",
    "                    novalist.append(novadict)\n",
    "    return novalist"
   ]
  },
  {
   "cell_type": "markdown",
   "metadata": {},
   "source": [
    "## netron"
   ]
  },
  {
   "cell_type": "code",
   "execution_count": null,
   "metadata": {},
   "outputs": [],
   "source": [
    "\n",
    "def get_data_methods(keyName,judgeinfo,file_path):\n",
    "    now=get_date_time_now()\n",
    "    list_of_lists=read_txt(file_path)\n",
    "    neutronlist=[]\n",
    "    for lis in list_of_lists:\n",
    "        # print(lis)\n",
    "        for info in lis:\n",
    "            if keyName in info:\n",
    "                # print(info.split())\n",
    "                neutrondict={}\n",
    "                listll=info.split()\n",
    "                hostname=[s for s in listll if \"aqc\" in s]\n",
    "                # print(listll)\n",
    "                if listll[-1]==judgeinfo:\n",
    "                    neutrondict[keyName]=True\n",
    "                    neutrondict['nodeName']=hostname[0]\n",
    "                    neutrondict['createTime']=now\n",
    "                    neutronlist.append(neutrondict)\n",
    "                else:\n",
    "                    neutrondict[keyName]=False\n",
    "                    neutrondict['nodeName']=hostname[0]\n",
    "                    neutronlist.append(neutrondict)\n",
    "    neutronlist_v1=[dict(t) for t in {tuple(sorted(d.items())) for d in neutronlist}]\n",
    "    return neutronlist_v1\n"
   ]
  },
  {
   "cell_type": "markdown",
   "metadata": {},
   "source": [
    "## cinder"
   ]
  },
  {
   "cell_type": "code",
   "execution_count": null,
   "metadata": {},
   "outputs": [],
   "source": [
    "cinder_list=get_data_methods(\"openstack cinder\",\"up\",\"Data/guangdong_openstack.txt\")\n",
    "cinder_list = [{k.replace('openstack ', ''): v if k != 'openstack cinder' else v for k, v in d.items()} for d in cinder_list]"
   ]
  },
  {
   "cell_type": "markdown",
   "metadata": {},
   "source": [
    "## mergend"
   ]
  },
  {
   "cell_type": "markdown",
   "metadata": {},
   "source": [
    "## merget methods"
   ]
  },
  {
   "cell_type": "code",
   "execution_count": null,
   "metadata": {},
   "outputs": [],
   "source": [
    "def merget_list_dict_methods(list1,list2):\n",
    "    merged_list = list1 + list2\n",
    "    merged_dict = {}\n",
    "    for d in merged_list:\n",
    "        key = d.get('nodeName') or d.get('nameNode')  \n",
    "        if key in merged_dict:\n",
    "            merged_dict[key].update(d)\n",
    "        else:\n",
    "            merged_dict[key] = d\n",
    "    result = list(merged_dict.values())\n",
    "    return result"
   ]
  },
  {
   "cell_type": "code",
   "execution_count": null,
   "metadata": {},
   "outputs": [],
   "source": [
    "cinder_list=get_data_methods(\"openstack cinder\",\"up\",\"Data/guangdong_openstack.txt\")\n",
    "cinder_list = [{k.replace('openstack ', ''): v if k != 'openstack cinder' else v for k, v in d.items()} for d in cinder_list]\n",
    "neutronlist_v=get_data_methods(\"neutron\",'\":-)\"',\"Data/guangdong_openstack.txt\")\n",
    "novalist=get_nova_status(\"Data/guangdong_openstack.txt\",'广东','广东')\n",
    "unique_dicts_nova_list = [dict(t) for t in {tuple(sorted(d.items())) for d in novalist}]\n",
    "result=merget_list_dict_methods(neutronlist_v,unique_dicts_nova_list)\n",
    "result_vvv=merget_list_dict_methods(result,cinder_list)"
   ]
  },
  {
   "cell_type": "code",
   "execution_count": 112,
   "metadata": {},
   "outputs": [],
   "source": [
    "result_vvv\n",
    "for dictionary in result_vvv:\n",
    "    # 检查是否存在 \"province\" 键\n",
    "    if \"province\" not in dictionary:\n",
    "        # 如果不存在，则添加键值对\n",
    "        dictionary[\"province\"] = \"广东\"\n",
    "    elif \"pool\" not in dictionary:\n",
    "        dictionary[\"pool\"]=\"广东\""
   ]
  },
  {
   "cell_type": "code",
   "execution_count": 113,
   "metadata": {},
   "outputs": [
    {
     "data": {
      "text/plain": [
       "[{'createTime': '2024-03-15 17:11:23',\n",
       "  'neutron': True,\n",
       "  'nodeName': 'aqc-gd01-crh-kvm-10e5e76e19',\n",
       "  'ceilometer': None,\n",
       "  'glance': None,\n",
       "  'heat': None,\n",
       "  'horizon': None,\n",
       "  'keystone': None,\n",
       "  'manila': None,\n",
       "  'nova': True,\n",
       "  'pool': '广东',\n",
       "  'province': '广东',\n",
       "  'rabbitmqActive': None,\n",
       "  'rabbitmqLeader': None,\n",
       "  'swift': None},\n",
       " {'createTime': '2024-03-15 17:11:23',\n",
       "  'neutron': True,\n",
       "  'nodeName': 'aqc-gd01-crh-kvm-10e5e76e11',\n",
       "  'ceilometer': None,\n",
       "  'glance': None,\n",
       "  'heat': None,\n",
       "  'horizon': None,\n",
       "  'keystone': None,\n",
       "  'manila': None,\n",
       "  'nova': True,\n",
       "  'pool': '广东',\n",
       "  'province': '广东',\n",
       "  'rabbitmqActive': None,\n",
       "  'rabbitmqLeader': None,\n",
       "  'swift': None},\n",
       " {'createTime': '2024-03-15 17:11:23',\n",
       "  'neutron': True,\n",
       "  'nodeName': 'aqc-gd01-crh-kvm-10e5e76e22',\n",
       "  'ceilometer': None,\n",
       "  'glance': None,\n",
       "  'heat': None,\n",
       "  'horizon': None,\n",
       "  'keystone': None,\n",
       "  'manila': None,\n",
       "  'nova': True,\n",
       "  'pool': '广东',\n",
       "  'province': '广东',\n",
       "  'rabbitmqActive': None,\n",
       "  'rabbitmqLeader': None,\n",
       "  'swift': None},\n",
       " {'createTime': '2024-03-15 17:11:23',\n",
       "  'neutron': True,\n",
       "  'nodeName': 'aqc-gd01-crh-kvm-10e5e76e24',\n",
       "  'ceilometer': None,\n",
       "  'glance': None,\n",
       "  'heat': None,\n",
       "  'horizon': None,\n",
       "  'keystone': None,\n",
       "  'manila': None,\n",
       "  'nova': True,\n",
       "  'pool': '广东',\n",
       "  'province': '广东',\n",
       "  'rabbitmqActive': None,\n",
       "  'rabbitmqLeader': None,\n",
       "  'swift': None},\n",
       " {'createTime': '2024-03-15 17:11:23',\n",
       "  'neutron': True,\n",
       "  'nodeName': 'aqc-gd01-crh-kvm-10e5e76e17',\n",
       "  'ceilometer': None,\n",
       "  'glance': None,\n",
       "  'heat': None,\n",
       "  'horizon': None,\n",
       "  'keystone': None,\n",
       "  'manila': None,\n",
       "  'nova': True,\n",
       "  'pool': '广东',\n",
       "  'province': '广东',\n",
       "  'rabbitmqActive': None,\n",
       "  'rabbitmqLeader': None,\n",
       "  'swift': None},\n",
       " {'createTime': '2024-03-15 17:11:23',\n",
       "  'neutron': True,\n",
       "  'nodeName': 'aqc-gd01-crh-kvm-10e5e76e16',\n",
       "  'ceilometer': None,\n",
       "  'glance': None,\n",
       "  'heat': None,\n",
       "  'horizon': None,\n",
       "  'keystone': None,\n",
       "  'manila': None,\n",
       "  'nova': True,\n",
       "  'pool': '广东',\n",
       "  'province': '广东',\n",
       "  'rabbitmqActive': None,\n",
       "  'rabbitmqLeader': None,\n",
       "  'swift': None},\n",
       " {'createTime': '2024-03-15 17:11:23',\n",
       "  'neutron': True,\n",
       "  'nodeName': 'aqc-gd01-crh-kvm-10e5e76e20',\n",
       "  'ceilometer': None,\n",
       "  'glance': None,\n",
       "  'heat': None,\n",
       "  'horizon': None,\n",
       "  'keystone': None,\n",
       "  'manila': None,\n",
       "  'nova': True,\n",
       "  'pool': '广东',\n",
       "  'province': '广东',\n",
       "  'rabbitmqActive': None,\n",
       "  'rabbitmqLeader': None,\n",
       "  'swift': None},\n",
       " {'createTime': '2024-03-15 17:11:23',\n",
       "  'neutron': True,\n",
       "  'nodeName': 'aqc-gd01-crh-kvm-10e5e76e13',\n",
       "  'ceilometer': None,\n",
       "  'glance': None,\n",
       "  'heat': None,\n",
       "  'horizon': None,\n",
       "  'keystone': None,\n",
       "  'manila': None,\n",
       "  'nova': True,\n",
       "  'pool': '广东',\n",
       "  'province': '广东',\n",
       "  'rabbitmqActive': None,\n",
       "  'rabbitmqLeader': None,\n",
       "  'swift': None},\n",
       " {'createTime': '2024-03-15 17:11:23',\n",
       "  'neutron': True,\n",
       "  'nodeName': 'aqc-gd01-crh-kvm-10e5e76e15',\n",
       "  'ceilometer': None,\n",
       "  'glance': None,\n",
       "  'heat': None,\n",
       "  'horizon': None,\n",
       "  'keystone': None,\n",
       "  'manila': None,\n",
       "  'nova': True,\n",
       "  'pool': '广东',\n",
       "  'province': '广东',\n",
       "  'rabbitmqActive': None,\n",
       "  'rabbitmqLeader': None,\n",
       "  'swift': None},\n",
       " {'createTime': '2024-03-15 17:11:23',\n",
       "  'neutron': True,\n",
       "  'nodeName': 'aqc-gd01-crh-kvm-10e5e76e27',\n",
       "  'ceilometer': None,\n",
       "  'glance': None,\n",
       "  'heat': None,\n",
       "  'horizon': None,\n",
       "  'keystone': None,\n",
       "  'manila': None,\n",
       "  'nova': True,\n",
       "  'pool': '广东',\n",
       "  'province': '广东',\n",
       "  'rabbitmqActive': None,\n",
       "  'rabbitmqLeader': None,\n",
       "  'swift': None},\n",
       " {'createTime': '2024-03-15 17:11:23',\n",
       "  'neutron': True,\n",
       "  'nodeName': 'aqc-gd01-crh-kvm-10e5e76e12',\n",
       "  'ceilometer': None,\n",
       "  'glance': None,\n",
       "  'heat': None,\n",
       "  'horizon': None,\n",
       "  'keystone': None,\n",
       "  'manila': None,\n",
       "  'nova': True,\n",
       "  'pool': '广东',\n",
       "  'province': '广东',\n",
       "  'rabbitmqActive': None,\n",
       "  'rabbitmqLeader': None,\n",
       "  'swift': None},\n",
       " {'createTime': '2024-03-15 17:11:23',\n",
       "  'neutron': True,\n",
       "  'nodeName': 'aqc-gd01-crh-kvm-10e5e76e29',\n",
       "  'ceilometer': None,\n",
       "  'glance': None,\n",
       "  'heat': None,\n",
       "  'horizon': None,\n",
       "  'keystone': None,\n",
       "  'manila': None,\n",
       "  'nova': True,\n",
       "  'pool': '广东',\n",
       "  'province': '广东',\n",
       "  'rabbitmqActive': None,\n",
       "  'rabbitmqLeader': None,\n",
       "  'swift': None},\n",
       " {'createTime': '2024-03-15 17:11:23',\n",
       "  'neutron': True,\n",
       "  'nodeName': 'aqc-gd01-crh-kvm-10e5e76e28',\n",
       "  'ceilometer': None,\n",
       "  'glance': None,\n",
       "  'heat': None,\n",
       "  'horizon': None,\n",
       "  'keystone': None,\n",
       "  'manila': None,\n",
       "  'nova': True,\n",
       "  'pool': '广东',\n",
       "  'province': '广东',\n",
       "  'rabbitmqActive': None,\n",
       "  'rabbitmqLeader': None,\n",
       "  'swift': None},\n",
       " {'createTime': '2024-03-15 17:11:23',\n",
       "  'neutron': True,\n",
       "  'nodeName': 'aqc-gd01-crh-kvm-10e5e76e14',\n",
       "  'ceilometer': None,\n",
       "  'glance': None,\n",
       "  'heat': None,\n",
       "  'horizon': None,\n",
       "  'keystone': None,\n",
       "  'manila': None,\n",
       "  'nova': True,\n",
       "  'pool': '广东',\n",
       "  'province': '广东',\n",
       "  'rabbitmqActive': None,\n",
       "  'rabbitmqLeader': None,\n",
       "  'swift': None},\n",
       " {'createTime': '2024-03-15 17:11:23',\n",
       "  'neutron': True,\n",
       "  'nodeName': 'aqc-gd01-crh-kvm-10e5e76e25',\n",
       "  'ceilometer': None,\n",
       "  'glance': None,\n",
       "  'heat': None,\n",
       "  'horizon': None,\n",
       "  'keystone': None,\n",
       "  'manila': None,\n",
       "  'nova': True,\n",
       "  'pool': '广东',\n",
       "  'province': '广东',\n",
       "  'rabbitmqActive': None,\n",
       "  'rabbitmqLeader': None,\n",
       "  'swift': None},\n",
       " {'createTime': '2024-03-15 17:11:23',\n",
       "  'neutron': True,\n",
       "  'nodeName': 'aqc-gd01-crh-kvm-10e5e76e23',\n",
       "  'ceilometer': None,\n",
       "  'glance': None,\n",
       "  'heat': None,\n",
       "  'horizon': None,\n",
       "  'keystone': None,\n",
       "  'manila': None,\n",
       "  'nova': True,\n",
       "  'pool': '广东',\n",
       "  'province': '广东',\n",
       "  'rabbitmqActive': None,\n",
       "  'rabbitmqLeader': None,\n",
       "  'swift': None},\n",
       " {'createTime': '2024-03-15 17:11:23',\n",
       "  'neutron': True,\n",
       "  'nodeName': 'aqc-gd01-crh-kvm-10e5e76e26',\n",
       "  'ceilometer': None,\n",
       "  'glance': None,\n",
       "  'heat': None,\n",
       "  'horizon': None,\n",
       "  'keystone': None,\n",
       "  'manila': None,\n",
       "  'nova': True,\n",
       "  'pool': '广东',\n",
       "  'province': '广东',\n",
       "  'rabbitmqActive': None,\n",
       "  'rabbitmqLeader': None,\n",
       "  'swift': None},\n",
       " {'createTime': '2024-03-15 17:11:23',\n",
       "  'neutron': True,\n",
       "  'nodeName': 'aqc-gd01-crh-kvm-10e5e76e21',\n",
       "  'ceilometer': None,\n",
       "  'glance': None,\n",
       "  'heat': None,\n",
       "  'horizon': None,\n",
       "  'keystone': None,\n",
       "  'manila': None,\n",
       "  'nova': True,\n",
       "  'pool': '广东',\n",
       "  'province': '广东',\n",
       "  'rabbitmqActive': None,\n",
       "  'rabbitmqLeader': None,\n",
       "  'swift': None},\n",
       " {'createTime': '2024-03-15 17:11:23',\n",
       "  'neutron': True,\n",
       "  'nodeName': 'aqc-gd01-crh-kvm-10e5e76e18',\n",
       "  'ceilometer': None,\n",
       "  'glance': None,\n",
       "  'heat': None,\n",
       "  'horizon': None,\n",
       "  'keystone': None,\n",
       "  'manila': None,\n",
       "  'nova': True,\n",
       "  'pool': '广东',\n",
       "  'province': '广东',\n",
       "  'rabbitmqActive': None,\n",
       "  'rabbitmqLeader': None,\n",
       "  'swift': None},\n",
       " {'ceilometer': None,\n",
       "  'createTime': '2024-03-15 17:11:19',\n",
       "  'glance': None,\n",
       "  'heat': None,\n",
       "  'horizon': None,\n",
       "  'keystone': None,\n",
       "  'manila': None,\n",
       "  'nodeName': 'aqc-gd01-os-control-10e5e79e20',\n",
       "  'nova': True,\n",
       "  'pool': '广东',\n",
       "  'province': '广东',\n",
       "  'rabbitmqActive': None,\n",
       "  'rabbitmqLeader': None,\n",
       "  'swift': None,\n",
       "  'cinder': True},\n",
       " {'ceilometer': None,\n",
       "  'createTime': '2024-03-15 17:11:19',\n",
       "  'glance': None,\n",
       "  'heat': None,\n",
       "  'horizon': None,\n",
       "  'keystone': None,\n",
       "  'manila': None,\n",
       "  'nodeName': 'aqc-gd01-os-control-10e5e79e22',\n",
       "  'nova': True,\n",
       "  'pool': '广东',\n",
       "  'province': '广东',\n",
       "  'rabbitmqActive': None,\n",
       "  'rabbitmqLeader': None,\n",
       "  'swift': None,\n",
       "  'cinder': True},\n",
       " {'ceilometer': None,\n",
       "  'createTime': '2024-03-15 17:11:19',\n",
       "  'glance': None,\n",
       "  'heat': None,\n",
       "  'horizon': None,\n",
       "  'keystone': None,\n",
       "  'manila': None,\n",
       "  'nodeName': 'aqc-gd01-os-control-10e5e79e21',\n",
       "  'nova': True,\n",
       "  'pool': '广东',\n",
       "  'province': '广东',\n",
       "  'rabbitmqActive': None,\n",
       "  'rabbitmqLeader': None,\n",
       "  'swift': None,\n",
       "  'cinder': True},\n",
       " {'createTime': '2024-03-15 17:11:19',\n",
       "  'nodeName': 'aqc-gd01-crh-kvm-10e5e76e27@ceph',\n",
       "  'cinder': True,\n",
       "  'province': '广东',\n",
       "  'pool': '广东'},\n",
       " {'createTime': '2024-03-15 17:11:19',\n",
       "  'nodeName': 'aqc-gd01-crh-kvm-10e5e76e28@swift#swift',\n",
       "  'cinder': True,\n",
       "  'province': '广东',\n",
       "  'pool': '广东'},\n",
       " {'createTime': '2024-03-15 17:11:19',\n",
       "  'nodeName': 'aqc-gd01-crh-kvm-10e5e76e26@ceph',\n",
       "  'cinder': True,\n",
       "  'province': '广东',\n",
       "  'pool': '广东'},\n",
       " {'createTime': '2024-03-15 17:11:19',\n",
       "  'nodeName': 'aqc-gd01-crh-kvm-10e5e76e29@ceph',\n",
       "  'cinder': True,\n",
       "  'province': '广东',\n",
       "  'pool': '广东'},\n",
       " {'createTime': '2024-03-15 17:11:19',\n",
       "  'nodeName': 'aqc-gd01-crh-kvm-10e5e76e28@ceph',\n",
       "  'cinder': True,\n",
       "  'province': '广东',\n",
       "  'pool': '广东'},\n",
       " {'createTime': '2024-03-15 17:11:19',\n",
       "  'nodeName': 'aqc-gd01-crh-kvm-10e5e76e27@swift#swift',\n",
       "  'cinder': True,\n",
       "  'province': '广东',\n",
       "  'pool': '广东'},\n",
       " {'createTime': '2024-03-15 17:11:19',\n",
       "  'nodeName': 'aqc-gd01-crh-kvm-10e5e76e29@swift#swift',\n",
       "  'cinder': True,\n",
       "  'province': '广东',\n",
       "  'pool': '广东'},\n",
       " {'createTime': '2024-03-15 17:11:19',\n",
       "  'nodeName': 'aqc-gd01-crh-kvm-10e5e76e26@swift#swift',\n",
       "  'cinder': True,\n",
       "  'province': '广东',\n",
       "  'pool': '广东'}]"
      ]
     },
     "execution_count": 113,
     "metadata": {},
     "output_type": "execute_result"
    }
   ],
   "source": [
    "result_vvv"
   ]
  },
  {
   "cell_type": "code",
   "execution_count": 115,
   "metadata": {},
   "outputs": [],
   "source": [
    "for re in result_vvv:\n",
    "    index_response = client.index(index=\"open_stack_monitor\", body=re)"
   ]
  },
  {
   "cell_type": "markdown",
   "metadata": {},
   "source": [
    "## rabbit mq"
   ]
  },
  {
   "cell_type": "code",
   "execution_count": null,
   "metadata": {},
   "outputs": [],
   "source": [
    "## has mergent to other "
   ]
  },
  {
   "cell_type": "markdown",
   "metadata": {},
   "source": [
    "## write into es"
   ]
  },
  {
   "cell_type": "code",
   "execution_count": null,
   "metadata": {},
   "outputs": [],
   "source": [
    "for re in result_vvv:\n",
    "    index_response = client.index(index=\"open_stack_monitor\", body=re)"
   ]
  },
  {
   "cell_type": "code",
   "execution_count": null,
   "metadata": {},
   "outputs": [],
   "source": [
    "res = client.search(index=\"open_stack_monitor\", body={\"query\": {\"match_all\": {}}})"
   ]
  },
  {
   "cell_type": "markdown",
   "metadata": {},
   "source": [
    "# network"
   ]
  },
  {
   "cell_type": "code",
   "execution_count": null,
   "metadata": {},
   "outputs": [],
   "source": [
    "def get_network_status(file_path,pronvice_name,pool_name):\n",
    "    now=get_date_time_now()\n",
    "    txtinfo=read_txt(file_path)\n",
    "    network_list=[]\n",
    "    for i in txtinfo:\n",
    "        # print(i)\n",
    "        for ii in i:\n",
    "            # print(ii)\n",
    "            ip_reach={}\n",
    "            if 'reacheable.' in ii:\n",
    "                iii=(ii.split())\n",
    "                # print(iii)\n",
    "                if iii[-1]=='reacheable.':\n",
    "                    ip_reach['businessNetPing']=True\n",
    "                    # network_list.append(ip_reach)\n",
    "                    ip_reach['storageNetPing']=None\n",
    "                    ip_reach['province']=pronvice_name\n",
    "                    ip_reach['pool']=pool_name\n",
    "                    ip_reach['nodeName']=iii[0]\n",
    "                    ip_reach['createTime']=now\n",
    "                    network_list.append(ip_reach)\n",
    "                else:\n",
    "                    ip_reach['businessNetPing']=False\n",
    "                    # network_list.append(ip_reach)\n",
    "                    ip_reach['storageNetPing']=None\n",
    "                    ip_reach['province']=pronvice_name\n",
    "                    ip_reach['pool']=pool_name\n",
    "                    ip_reach['nodeName']=iii[0]\n",
    "                    ip_reach['createTime']=now\n",
    "                    network_list.append(ip_reach)\n",
    "    return network_list\n",
    "        "
   ]
  },
  {
   "cell_type": "code",
   "execution_count": null,
   "metadata": {},
   "outputs": [],
   "source": [
    "network_list=get_network_status(\"Data/guangdong_node.txt\",'广东','广东')"
   ]
  },
  {
   "cell_type": "code",
   "execution_count": null,
   "metadata": {},
   "outputs": [],
   "source": [
    "network_list"
   ]
  },
  {
   "cell_type": "markdown",
   "metadata": {},
   "source": [
    "### write into es"
   ]
  },
  {
   "cell_type": "code",
   "execution_count": null,
   "metadata": {},
   "outputs": [],
   "source": [
    "for re in network_list:\n",
    "    index_response = client.index(index=\"network_monitor\", body=re)"
   ]
  },
  {
   "cell_type": "code",
   "execution_count": null,
   "metadata": {},
   "outputs": [],
   "source": [
    "res = client.search(index=\"network_monitor\", body={\"query\": {\"match_all\": {}}})"
   ]
  },
  {
   "cell_type": "code",
   "execution_count": null,
   "metadata": {},
   "outputs": [],
   "source": [
    "res"
   ]
  },
  {
   "cell_type": "markdown",
   "metadata": {},
   "source": [
    "# ceph"
   ]
  },
  {
   "cell_type": "code",
   "execution_count": null,
   "metadata": {},
   "outputs": [],
   "source": [
    "def get_ceph_status(file_path,province_name,pool_name):\n",
    "    now=get_date_time_now()\n",
    "    ceph_info=read_txt(file_path)\n",
    "    ceph_dict = {}\n",
    "    pool=[]\n",
    "\n",
    "    for i in ceph_info:\n",
    "        for ii in i:\n",
    "         \n",
    "            if '[ceph-pool]' in ii:\n",
    "                pool_dict={}\n",
    "            \n",
    "                iii=ii.split()\n",
    "        \n",
    "                # pool_dict[iii[2]]=float(iii[4])\n",
    "                pool.append(round(float(iii[4])))\n",
    "    ceph_dict['cephOsdDfUsage']=pool\n",
    "    ceph_dict['province']=province_name\n",
    "    ceph_dict['pool']=pool_name\n",
    "    ceph_dict['cephSlowRequest']=False\n",
    "    ceph_dict['cephCopiesNum']=None\n",
    "    ceph_dict['cephDataLowerRank']=False\n",
    "    ceph_dict['createTime']=now\n",
    "    return ceph_dict"
   ]
  },
  {
   "cell_type": "code",
   "execution_count": null,
   "metadata": {},
   "outputs": [],
   "source": [
    "ceph_dict=get_ceph_status(\"Data/guangdong_ceph.txt\",'广东','广东')"
   ]
  },
  {
   "cell_type": "code",
   "execution_count": null,
   "metadata": {},
   "outputs": [],
   "source": [
    "ceph_dict"
   ]
  },
  {
   "cell_type": "code",
   "execution_count": null,
   "metadata": {},
   "outputs": [],
   "source": [
    "\n",
    "index_response = client.index(index=\"ceph_monitor\", body=ceph_dict)"
   ]
  },
  {
   "cell_type": "code",
   "execution_count": null,
   "metadata": {},
   "outputs": [],
   "source": [
    "import ssl\n",
    "print(ssl.OPENSSL_VERSION)"
   ]
  },
  {
   "cell_type": "code",
   "execution_count": null,
   "metadata": {},
   "outputs": [],
   "source": [
    "# now = get_date_time_now()\n",
    "list_of_lists_1 = read_txt(\"Data/guangdong_node.txt\")\n",
    "disklist = []\n",
    "\n",
    "for i in list_of_lists_1:\n",
    "    # print(i)\n",
    "    if '[disk]' in i[0]:\n",
    "        # print(i)\n",
    "        for ii in i:\n",
    "            diskdict = {}\n",
    "            disk_v=[]\n",
    "            iili = (ii.split())\n",
    "            print(iili)\n",
    "            disk_v.append(int(iili[9].split(\"%\")[0]))"
   ]
  },
  {
   "cell_type": "code",
   "execution_count": null,
   "metadata": {},
   "outputs": [],
   "source": []
  }
 ],
 "metadata": {
  "kernelspec": {
   "display_name": "ES",
   "language": "python",
   "name": "python3"
  },
  "language_info": {
   "codemirror_mode": {
    "name": "ipython",
    "version": 3
   },
   "file_extension": ".py",
   "mimetype": "text/x-python",
   "name": "python",
   "nbconvert_exporter": "python",
   "pygments_lexer": "ipython3",
   "version": "3.11.8"
  }
 },
 "nbformat": 4,
 "nbformat_minor": 2
}
